{
 "cells": [
  {
   "cell_type": "code",
   "execution_count": 1,
   "id": "586118bc-ebf8-4040-bc7c-fdab7b7e2995",
   "metadata": {},
   "outputs": [],
   "source": [
    "#include <iostream>  // Biblioteca estándar de C++, para imprimir en pantalla los resultados obtenidos"
   ]
  },
  {
   "cell_type": "code",
   "execution_count": 2,
   "id": "d12acbc0-9876-431c-a495-49da505177db",
   "metadata": {},
   "outputs": [],
   "source": [
    "#define N 8  // Definimos una constante llamada N para indicar el tamaño del tablero"
   ]
  },
  {
   "cell_type": "code",
   "execution_count": 3,
   "id": "bef62bb2-e8be-43f2-b4d5-61736ab6b1be",
   "metadata": {
    "tags": []
   },
   "outputs": [],
   "source": [
    "void printBoard(int board[][N]);  // Función para imprimir un tablero\n",
    "void printState(int* state);  // Función para imprimir un estado"
   ]
  },
  {
   "cell_type": "code",
   "execution_count": 4,
   "id": "e46e6d53-8439-401e-8abe-3bdbfe5cef17",
   "metadata": {},
   "outputs": [],
   "source": [
    "void generateBoard(int board[][N], int* state);  // Función que genera un tablero dado un estado\n",
    "void copyState(int* state1, int* state2);  // Función que copia el contenido de state2 a state1"
   ]
  },
  {
   "cell_type": "code",
   "execution_count": 5,
   "id": "d91163f6-ffbb-420d-a42c-f9b25619e63e",
   "metadata": {},
   "outputs": [],
   "source": [
    "void fill(int board[][N], int value);  // Función que rellena un tablero con un valor indicado\n",
    "bool compareStates(int* state1, int* state2);  // Función que compara dos estados"
   ]
  },
  {
   "cell_type": "markdown",
   "id": "8d42624e-8896-4144-b655-484d743548ca",
   "metadata": {},
   "source": [
    "### Detalle de las funciones"
   ]
  },
  {
   "cell_type": "code",
   "execution_count": 6,
   "id": "ff28b168-1c95-41fe-a1ca-04e5d93e7214",
   "metadata": {
    "tags": []
   },
   "outputs": [],
   "source": [
    "void printBoard(int board[][N])\n",
    "{\n",
    "    for (int i = 0; i < N; i++) {\n",
    "        std::cout << \" \";\n",
    "        for (int j = 0; j < N; j++)\n",
    "            std::cout << board[i][j] << \" \";\n",
    "        std::cout << std::endl;\n",
    "    }\n",
    "}"
   ]
  },
  {
   "cell_type": "code",
   "execution_count": 7,
   "id": "85b065ce-8b0b-4be5-9e39-f7bcb7fb29ca",
   "metadata": {
    "tags": []
   },
   "outputs": [],
   "source": [
    "void printState(int* state)\n",
    "{\n",
    "    for (int i = 0; i < N; i++)\n",
    "        std::cout << \" \" << state[i] << \" \";\n",
    "    std::cout << std::endl;\n",
    "}"
   ]
  },
  {
   "cell_type": "code",
   "execution_count": 8,
   "id": "ec8b3a95-38af-4212-a8eb-a15d0ef69f20",
   "metadata": {},
   "outputs": [],
   "source": [
    "void fill(int board[][N], int value)\n",
    "{\n",
    "    for (int i = 0; i < N; i++)\n",
    "        for (int j = 0; j < N; j++)\n",
    "            board[i][j] = value;\n",
    "}"
   ]
  },
  {
   "cell_type": "code",
   "execution_count": 9,
   "id": "ea325f70-6a9a-4d57-b1b4-14de53dae5a4",
   "metadata": {
    "tags": []
   },
   "outputs": [],
   "source": [
    "void generateBoard(int board[][N], int* state)\n",
    "{\n",
    "    fill(board, 0);\n",
    "    for (int i = 0; i < N; i++)\n",
    "        board[state[i]][i] = 1;\n",
    "}"
   ]
  },
  {
   "cell_type": "code",
   "execution_count": 10,
   "id": "bca4fb63-e8ab-41f0-ba03-e5b0ef2c6d80",
   "metadata": {},
   "outputs": [],
   "source": [
    "void copyState(int* state1, int* state2)\n",
    "{\n",
    "    for (int i = 0; i < N; i++)\n",
    "        state1[i] = state2[i];\n",
    "}"
   ]
  },
  {
   "cell_type": "code",
   "execution_count": 11,
   "id": "3d46a5af-0b61-45c4-9efa-329f0a3a6124",
   "metadata": {},
   "outputs": [],
   "source": [
    "bool compareStates(int* state1, int* state2)\n",
    "{\n",
    "    for (int i = 0; i < N; i++)\n",
    "        if (state1[i] != state2[i])\n",
    "            return false;\n",
    "    return true;\n",
    "}"
   ]
  },
  {
   "cell_type": "markdown",
   "id": "4e62cfd9-6ad9-4443-873f-80c7c3554974",
   "metadata": {
    "tags": []
   },
   "source": [
    "### Cálculo de la función objetivo\n",
    "\n",
    "Esta función calcula y asigna un valor al tablero, a partir de las reinas que se atacan entre sí.\n",
    "\n",
    "Para cada reina en una columna, buscamos otras reinas que caigan en la línea de nuestra reina actual y, si las encontramos, incrementamos el conteo de la variable **attacking**."
   ]
  },
  {
   "cell_type": "code",
   "execution_count": 12,
   "id": "2ed157da-524b-42d1-adcd-6543be029343",
   "metadata": {},
   "outputs": [],
   "source": [
    "int calculateObjective(int board[][N], int* state)\n",
    "{\n",
    "    int attacking = 0;  // Número de reinas que se atacan entre sí, inicialmente cero\n",
    "\n",
    "    int row, col;\n",
    "    for (int i = 0; i < N; i++) {\n",
    "        \n",
    "        // En cada columna 'i', la reina se ubica en la fila 'state[i]', y comenzamos la búsqueda\n",
    "\n",
    "        // Abajo\n",
    "        row = state[i], col = i - 1;\n",
    "        while (col >= 0 && board[row][col] != 1)\n",
    "            col--;\n",
    "        if (col >= 0 && board[row][col] == 1)\n",
    "            attacking++;\n",
    "\n",
    "        // Arriba\n",
    "        row = state[i], col = i + 1;\n",
    "        while (col < N && board[row][col] != 1)\n",
    "           col++;\n",
    "        if (col < N && board[row][col] == 1)\n",
    "            attacking++;\n",
    "\n",
    "        // Diagonal Arriba-Izquierda\n",
    "        row = state[i] - 1, col = i - 1;\n",
    "        while (col >= 0 && row >= 0 && board[row][col] != 1) {\n",
    "            col--;\n",
    "            row--;\n",
    "        }\n",
    "        if (col >= 0 && row >= 0 && board[row][col] == 1)\n",
    "            attacking++;\n",
    "\n",
    "        // Diagonal Abajo-Derecha\n",
    "        row = state[i] + 1, col = i + 1;\n",
    "        while (col < N && row < N && board[row][col] != 1) {\n",
    "            col++;\n",
    "            row++;\n",
    "        }\n",
    "        if (col < N && row < N && board[row][col] == 1)\n",
    "            attacking++;\n",
    "\n",
    "        // Diagonal Arriba-Derecha\n",
    "        row = state[i] + 1, col = i - 1;\n",
    "        while (col >= 0 && row < N && board[row][col] != 1) {\n",
    "            col--;\n",
    "            row++;\n",
    "        }\n",
    "        if (col >= 0 && row < N && board[row][col] == 1)\n",
    "            attacking++;\n",
    "\n",
    "        // Diagonal Abajo-Izquierda\n",
    "        row = state[i] - 1, col = i + 1;\n",
    "        while (col < N && row >= 0 && board[row][col] != 1) {\n",
    "            col++;\n",
    "            row--;\n",
    "        }\n",
    "        if (col < N && row >= 0 && board[row][col] == 1)\n",
    "            attacking++;\n",
    "    }\n",
    "\n",
    "    return (int)(attacking/2);  // Se descartan duplicados\n",
    "}"
   ]
  },
  {
   "cell_type": "code",
   "execution_count": 13,
   "id": "ad39b28a-a20c-4677-8d82-9733e4bfdeef",
   "metadata": {},
   "outputs": [],
   "source": [
    "void getNeighbour(int board[][N], int* state)\n",
    "{\n",
    "    int opBoard[N][N];\n",
    "    int opState[N];\n",
    "    copyState(opState, state);\n",
    "    generateBoard(opBoard, opState);\n",
    "\n",
    "    int opObjective = calculateObjective(opBoard, opState);\n",
    "    \n",
    "    int NeighbourBoard[N][N];\n",
    "    int NeighbourState[N];\n",
    "    copyState(NeighbourState, state);\n",
    "    generateBoard(NeighbourBoard, NeighbourState);\n",
    "\n",
    "    for (int i = 0; i < N; i++) {\n",
    "        for (int j = 0; j < N; j++) {\n",
    "\n",
    "            if (j != state[i]) {\n",
    "                NeighbourState[i] = j;\n",
    "                NeighbourBoard[NeighbourState[i]][i] = 1;\n",
    "                NeighbourBoard[state[i]][i] = 0;\n",
    "\n",
    "                int temp = calculateObjective(NeighbourBoard, NeighbourState);\n",
    "\n",
    "                if (temp <= opObjective) {\n",
    "                    opObjective = temp;\n",
    "                    copyState(opState, NeighbourState);\n",
    "                    generateBoard(opBoard,opState);\n",
    "                }\n",
    "\n",
    "                NeighbourBoard[NeighbourState[i]][i] = 0;\n",
    "                NeighbourState[i] = state[i];\n",
    "                NeighbourBoard[state[i]][i] = 1;\n",
    "            }\n",
    "        }\n",
    "    }\n",
    "    copyState(state, opState);\n",
    "    fill(board, 0);\n",
    "    generateBoard(board, state);\n",
    "}"
   ]
  },
  {
   "cell_type": "code",
   "execution_count": 14,
   "id": "c44cf0ae-d740-464f-b9fe-37e38f493a0c",
   "metadata": {
    "tags": []
   },
   "outputs": [],
   "source": [
    "void localSearch(int board[][N], int* state)\n",
    "{\n",
    "    // Se declara e inicializa un tablero vecino y su estado\n",
    "    // se rellena con la información del tablero inicial\n",
    "    int neighbourBoard[N][N] = {};\n",
    "    int neighbourState[N];\n",
    "    copyState(neighbourState, state);\n",
    "    generateBoard(neighbourBoard, neighbourState);\n",
    "\n",
    "    do {\n",
    "        copyState(state, neighbourState);\n",
    "        generateBoard(board, state);\n",
    "\n",
    "        getNeighbour(neighbourBoard, neighbourState);\n",
    "\n",
    "        if (compareStates(state, neighbourState)) {\n",
    "            printBoard(board);\n",
    "            break;\n",
    "        } else if (calculateObjective(board, state) == calculateObjective(neighbourBoard, neighbourState)) {\n",
    "            neighbourState[rand() % N] = rand() % N;\n",
    "            generateBoard(neighbourBoard, neighbourState);\n",
    "        }\n",
    "    } while (true);\n",
    "}"
   ]
  },
  {
   "cell_type": "markdown",
   "id": "df4e103b-4c47-4b42-be29-a0bdb483c473",
   "metadata": {},
   "source": [
    "### Variables de la función **main**"
   ]
  },
  {
   "cell_type": "markdown",
   "id": "404c4c89-cb9c-44fd-be31-6ec26b107f59",
   "metadata": {},
   "source": [
    "Variable **board**: representa la solución inicial del tablero con las N reinas."
   ]
  },
  {
   "cell_type": "markdown",
   "id": "a10b4848-d005-4e4e-b5d1-e08c5889ad3e",
   "metadata": {},
   "source": [
    "Variable **state**:\n",
    "\n",
    "* Numeramos las filas y columnas de 0 a N − 1\n",
    "* Usamos un arreglo unidimensional donde el índice representa el valor de la columna\n",
    "* El contenido del arreglo corresponde al valor de la fila de cada columna en la lista\n",
    "* Las reinas se ven obligadas a ocupar columnas diferentes\n",
    "\n",
    "Ejemplos:\n",
    "\n",
    "* Ocho reinas a lo largo de la diagonal principal: ```[0,1,2,3,4,5,6,7]```\n",
    "* Solución de cuatro reinas: ```[1,3,0,2]```\n",
    "* Seis reinas al azar: ```[4,1,2,5,3,2]```"
   ]
  },
  {
   "cell_type": "code",
   "execution_count": 15,
   "id": "a46b4ea8-7bcb-48bc-87fe-82f2a6892871",
   "metadata": {},
   "outputs": [],
   "source": [
    "int main()\n",
    "{\n",
    "    int board[N][N] = {\n",
    "        {0, 1, 0, 0, 0, 0, 0, 0},\n",
    "        {0, 0, 0, 0, 0, 1, 0, 0},\n",
    "        {0, 0, 1, 0, 0, 0, 0, 0},\n",
    "        {0, 0, 0, 1, 0, 0, 0, 1},\n",
    "        {1, 0, 0, 0, 0, 0, 0, 0},\n",
    "        {0, 0, 0, 0, 0, 0, 1, 0},\n",
    "        {0, 0, 0, 0, 0, 0, 0, 0},\n",
    "        {0, 0, 0, 0, 1, 0, 0, 0}\n",
    "    };\n",
    "    int state[N] = {4, 0, 2, 3, 7, 1, 5, 3};\n",
    "    localSearch(board, state);\n",
    "    return 0;\n",
    "}"
   ]
  },
  {
   "cell_type": "code",
   "execution_count": 16,
   "id": "e16a22e4-37c8-4181-b538-0517195df167",
   "metadata": {},
   "outputs": [
    {
     "name": "stdout",
     "output_type": "stream",
     "text": [
      " 0 1 0 0 0 0 0 0 \n",
      " 0 0 0 0 0 1 0 0 \n",
      " 0 0 1 0 0 0 0 0 \n",
      " 1 0 0 0 0 0 0 0 \n",
      " 0 0 0 0 0 0 0 1 \n",
      " 0 0 0 1 0 0 0 0 \n",
      " 0 0 0 0 1 0 0 0 \n",
      " 0 0 0 0 0 0 1 0 \n"
     ]
    }
   ],
   "source": [
    "main();"
   ]
  }
 ],
 "metadata": {
  "kernelspec": {
   "display_name": "C++11",
   "language": "C++11",
   "name": "xcpp11"
  },
  "language_info": {
   "codemirror_mode": "text/x-c++src",
   "file_extension": ".cpp",
   "mimetype": "text/x-c++src",
   "name": "c++",
   "version": "11"
  }
 },
 "nbformat": 4,
 "nbformat_minor": 5
}
